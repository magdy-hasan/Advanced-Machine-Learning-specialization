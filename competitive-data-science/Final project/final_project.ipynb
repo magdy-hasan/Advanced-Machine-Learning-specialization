{
 "cells": [
  {
   "cell_type": "markdown",
   "metadata": {},
   "source": [
    "### Here are the main steps to follow:\n",
    "- [Importing libraries and loading the data](#Importing-and-loading-data)\n",
    "- [EDA](#EDA)\n",
    "- [Data-leakage](#Data-leakage)\n",
    "- [Feature engineering](#Feature-engineering)\n",
    "- [Training](#Training)\n",
    "- [Prediction](#Prediction)"
   ]
  },
  {
   "cell_type": "markdown",
   "metadata": {},
   "source": [
    "## Importing and loading data"
   ]
  },
  {
   "cell_type": "code",
   "execution_count": 1,
   "metadata": {
    "_cell_guid": "b1076dfc-b9ad-4769-8c92-a6c4dae69d19",
    "_uuid": "8f2839f25d086af736a60e9eeb907d3b93b6e0e5"
   },
   "outputs": [],
   "source": [
    "import numpy as np\n",
    "import pandas as pd\n",
    "from itertools import product\n",
    "from sklearn.preprocessing import LabelEncoder\n",
    "import seaborn as sns\n",
    "import matplotlib.pyplot as plt\n",
    "import gc\n",
    "\n",
    "%matplotlib inline"
   ]
  },
  {
   "cell_type": "code",
   "execution_count": 2,
   "metadata": {},
   "outputs": [],
   "source": [
    "df_train = pd.read_csv('sales_train.csv.gz')\n",
    "df_test = pd.read_csv('test.csv.gz')\n",
    "\n",
    "items = pd.read_csv('items.csv')\n",
    "shops = pd.read_csv('shops.csv')\n",
    "cats = pd.read_csv('item_categories.csv')"
   ]
  },
  {
   "cell_type": "markdown",
   "metadata": {},
   "source": [
    "## EDA"
   ]
  },
  {
   "cell_type": "markdown",
   "metadata": {},
   "source": [
    "#### check item_cnt_day range"
   ]
  },
  {
   "cell_type": "code",
   "execution_count": 3,
   "metadata": {
    "scrolled": true
   },
   "outputs": [
    {
     "data": {
      "text/plain": [
       "<matplotlib.axes._subplots.AxesSubplot at 0x205572db0b8>"
      ]
     },
     "execution_count": 3,
     "metadata": {},
     "output_type": "execute_result"
    },
    {
     "data": {
      "image/png": "[encoded data removed]",
      "text/plain": [
       "<Figure size 432x288 with 1 Axes>"
      ]
     },
     "metadata": {
      "needs_background": "light"
     },
     "output_type": "display_data"
    }
   ],
   "source": [
    "sns.boxplot(x=df_train.item_cnt_day)"
   ]
  },
  {
   "cell_type": "markdown",
   "metadata": {},
   "source": [
    "##### It looks like transactions with item_cnt_day > 1000 is outliers, so remove them"
   ]
  },
  {
   "cell_type": "code",
   "execution_count": 4,
   "metadata": {},
   "outputs": [],
   "source": [
    "df_train = df_train[df_train.item_cnt_day<1001]"
   ]
  },
  {
   "cell_type": "markdown",
   "metadata": {},
   "source": [
    "#### check item_price range"
   ]
  },
  {
   "cell_type": "code",
   "execution_count": 5,
   "metadata": {},
   "outputs": [
    {
     "data": {
      "text/plain": [
       "<matplotlib.axes._subplots.AxesSubplot at 0x205575d46d8>"
      ]
     },
     "execution_count": 5,
     "metadata": {},
     "output_type": "execute_result"
    },
    {
     "data": {
      "image/png": "[encoded data removed]",
      "text/plain": [
       "<Figure size 432x288 with 1 Axes>"
      ]
     },
     "metadata": {
      "needs_background": "light"
     },
     "output_type": "display_data"
    }
   ],
   "source": [
    "sns.boxplot(x=df_train.item_price)"
   ]
  },
  {
   "cell_type": "markdown",
   "metadata": {},
   "source": [
    "Again item_price > 100000 seens like outliers, remove them"
   ]
  },
  {
   "cell_type": "code",
   "execution_count": 6,
   "metadata": {},
   "outputs": [],
   "source": [
    "df_train = df_train[df_train.item_price<100000]"
   ]
  },
  {
   "cell_type": "markdown",
   "metadata": {},
   "source": [
    "##### check for nan's"
   ]
  },
  {
   "cell_type": "code",
   "execution_count": 7,
   "metadata": {},
   "outputs": [
    {
     "data": {
      "text/plain": [
       "date              0\n",
       "date_block_num    0\n",
       "shop_id           0\n",
       "item_id           0\n",
       "item_price        0\n",
       "item_cnt_day      0\n",
       "dtype: int64"
      ]
     },
     "execution_count": 7,
     "metadata": {},
     "output_type": "execute_result"
    }
   ],
   "source": [
    "df_train.isna().sum()"
   ]
  },
  {
   "cell_type": "markdown",
   "metadata": {},
   "source": [
    "##### check for negative values"
   ]
  },
  {
   "cell_type": "code",
   "execution_count": 8,
   "metadata": {},
   "outputs": [
    {
     "data": {
      "text/html": [
       "<div>\n",
       "<style scoped>\n",
       "    .dataframe tbody tr th:only-of-type {\n",
       "        vertical-align: middle;\n",
       "    }\n",
       "\n",
       "    .dataframe tbody tr th {\n",
       "        vertical-align: top;\n",
       "    }\n",
       "\n",
       "    .dataframe thead th {\n",
       "        text-align: right;\n",
       "    }\n",
       "</style>\n",
       "<table border=\"1\" class=\"dataframe\">\n",
       "  <thead>\n",
       "    <tr style=\"text-align: right;\">\n",
       "      <th></th>\n",
       "      <th>date</th>\n",
       "      <th>date_block_num</th>\n",
       "      <th>shop_id</th>\n",
       "      <th>item_id</th>\n",
       "      <th>item_price</th>\n",
       "      <th>item_cnt_day</th>\n",
       "    </tr>\n",
       "  </thead>\n",
       "  <tbody>\n",
       "    <tr>\n",
       "      <th>484683</th>\n",
       "      <td>15.05.2013</td>\n",
       "      <td>4</td>\n",
       "      <td>32</td>\n",
       "      <td>2973</td>\n",
       "      <td>-1.0</td>\n",
       "      <td>1.0</td>\n",
       "    </tr>\n",
       "  </tbody>\n",
       "</table>\n",
       "</div>"
      ],
      "text/plain": [
       "              date  date_block_num  shop_id  item_id  item_price  item_cnt_day\n",
       "484683  15.05.2013               4       32     2973        -1.0           1.0"
      ]
     },
     "execution_count": 8,
     "metadata": {},
     "output_type": "execute_result"
    }
   ],
   "source": [
    "df_train[df_train.item_price < 0]"
   ]
  },
  {
   "cell_type": "markdown",
   "metadata": {},
   "source": [
    "##### replace it with median of this shop id of this item id within the date_block_num median"
   ]
  },
  {
   "cell_type": "code",
   "execution_count": 9,
   "metadata": {},
   "outputs": [],
   "source": [
    "df_train.loc[df_train.item_price<0, 'item_price'] = df_train[(df_train.shop_id==32)&(df_train.item_id==2973)&(df_train.date_block_num==4)&(df_train.item_price>0)].item_price.median()"
   ]
  },
  {
   "cell_type": "markdown",
   "metadata": {},
   "source": [
    "#### some shops are duplicated of each other, correct them"
   ]
  },
  {
   "cell_type": "code",
   "execution_count": 21,
   "metadata": {},
   "outputs": [],
   "source": [
    "df_train.loc[df_train.shop_id == 0, 'shop_id'] = 57\n",
    "\n",
    "df_train.loc[df_train.shop_id == 1, 'shop_id'] = 58\n",
    "\n",
    "df_train.loc[df_train.shop_id == 10, 'shop_id'] = 11"
   ]
  },
  {
   "cell_type": "markdown",
   "metadata": {},
   "source": [
    "#### now let's see some visualization"
   ]
  },
  {
   "cell_type": "code",
   "execution_count": 10,
   "metadata": {},
   "outputs": [
    {
     "data": {
      "text/plain": [
       "<matplotlib.axes._subplots.AxesSubplot at 0x20557682278>"
      ]
     },
     "execution_count": 10,
     "metadata": {},
     "output_type": "execute_result"
    },
    {
     "data": {
      "image/png": "[encoded data removed]",
      "text/plain": [
       "<Figure size 432x288 with 1 Axes>"
      ]
     },
     "metadata": {
      "needs_background": "light"
     },
     "output_type": "display_data"
    }
   ],
   "source": [
    "#let's see item_cnt_day in each date_block_num\n",
    "df_train.groupby(['date_block_num']).agg({'item_cnt_day': ['sum']}).plot()"
   ]
  },
  {
   "cell_type": "code",
   "execution_count": 19,
   "metadata": {},
   "outputs": [
    {
     "data": {
      "text/plain": [
       "<matplotlib.axes._subplots.AxesSubplot at 0x20558bb9390>"
      ]
     },
     "execution_count": 19,
     "metadata": {},
     "output_type": "execute_result"
    },
    {
     "data": {
      "image/png": "[encoded data removed]",
      "text/plain": [
       "<Figure size 720x576 with 1 Axes>"
      ]
     },
     "metadata": {
      "needs_background": "light"
     },
     "output_type": "display_data"
    }
   ],
   "source": [
    "#let's see item_cnt_day vs each month\n",
    "df_train.groupby(df_train.date_block_num%12).agg({'item_cnt_day': ['sum']}).plot.bar(figsize=(10, 8))"
   ]
  },
  {
   "cell_type": "code",
   "execution_count": 20,
   "metadata": {
    "scrolled": false
   },
   "outputs": [
    {
     "data": {
      "text/plain": [
       "<matplotlib.axes._subplots.AxesSubplot at 0x20558c36b70>"
      ]
     },
     "execution_count": 20,
     "metadata": {},
     "output_type": "execute_result"
    },
    {
     "data": {
      "image/png": "[encoded data removed]",
      "text/plain": [
       "<Figure size 720x576 with 1 Axes>"
      ]
     },
     "metadata": {
      "needs_background": "light"
     },
     "output_type": "display_data"
    }
   ],
   "source": [
    "#let's see sales for each shop\n",
    "df_train.groupby(['shop_id']).agg({'item_cnt_day': ['sum']}).plot.bar(figsize=(10, 8))"
   ]
  },
  {
   "cell_type": "code",
   "execution_count": 18,
   "metadata": {},
   "outputs": [
    {
     "data": {
      "text/plain": [
       "[<matplotlib.lines.Line2D at 0x20558b77898>]"
      ]
     },
     "execution_count": 18,
     "metadata": {},
     "output_type": "execute_result"
    },
    {
     "data": {
      "image/png": "[encoded data removed]",
      "text/plain": [
       "<Figure size 432x288 with 1 Axes>"
      ]
     },
     "metadata": {
      "needs_background": "light"
     },
     "output_type": "display_data"
    }
   ],
   "source": [
    "#Is there's a realtion between item_cnt_day and the order of the data\n",
    "plt.plot(df_train.item_cnt_day,'.')"
   ]
  },
  {
   "cell_type": "markdown",
   "metadata": {},
   "source": [
    "## Data leakage"
   ]
  },
  {
   "cell_type": "markdown",
   "metadata": {},
   "source": [
    "#### Since the training and test set are split on a future time for test set, i couldn't utilize any data leakage"
   ]
  },
  {
   "cell_type": "markdown",
   "metadata": {},
   "source": [
    "## Feature engineering"
   ]
  },
  {
   "cell_type": "markdown",
   "metadata": {},
   "source": [
    "##### from here the code needs a lot of memory, so i didn't ran them on this notebook, but on kaggle kerenl "
   ]
  },
  {
   "cell_type": "code",
   "execution_count": null,
   "metadata": {},
   "outputs": [],
   "source": [
    "#create a grid with all possible date_block_num/shop_id/item_id combination\n",
    "grid = []\n",
    "for block_num in df_train['date_block_num'].unique():\n",
    "    cur_shops = df_train[df_train['date_block_num']==block_num]['shop_id'].unique()\n",
    "    cur_items = df_train[df_train['date_block_num']==block_num]['item_id'].unique()\n",
    "    grid.append(np.array(list(product(*[cur_shops, cur_items, [block_num]])),dtype='int32'))\n",
    "index_cols = ['shop_id', 'item_id', 'date_block_num']\n",
    "grid = pd.DataFrame(np.vstack(grid), columns = index_cols,dtype=np.int32)\n",
    "\n",
    "\n",
    "# group each date_block_num and make our target variable (item_cnt_month)\n",
    "df_train['item_cnt_day'] = df_train['item_cnt_day'].clip(0,20)\n",
    "groups = df_train.groupby(['shop_id', 'item_id', 'date_block_num'])\n",
    "tr = groups.agg({'item_cnt_day':'sum', 'item_price':'mean'}).reset_index()\n",
    "tr = tr.rename(columns = {'item_cnt_day' : 'item_cnt_month'})\n",
    "tr['item_cnt_month'] = tr['item_cnt_month'].clip(0,20)\n",
    "\n",
    "#merge to our main data\n",
    "index_cols = ['shop_id', 'item_id', 'date_block_num']\n",
    "tr = pd.merge(grid,tr,how='left',on=index_cols)\n",
    "tr.item_cnt_month = tr.item_cnt_month.fillna(0)\n",
    "tr.item_price = tr.item_price.fillna(0)\n",
    "\n",
    "#clean memory\n",
    "del grid, df_train\n",
    "gc.collect()"
   ]
  },
  {
   "cell_type": "markdown",
   "metadata": {},
   "source": [
    "#### Modify the test/shops/items/cats data"
   ]
  },
  {
   "cell_type": "code",
   "execution_count": null,
   "metadata": {
    "_uuid": "5ab8bf8802cda6584c8631df4bc131a74835e4e5",
    "scrolled": false
   },
   "outputs": [],
   "source": [
    "#fix name of shops in test as we did in train\n",
    "df_test.loc[df_test.shop_id == 0, 'shop_id'] = 57\n",
    "df_test.loc[df_test.shop_id == 1, 'shop_id'] = 58\n",
    "df_test.loc[df_test.shop_id == 10, 'shop_id'] = 11\n",
    "\n",
    "#we don't need the ID column\n",
    "df_test = df_test.drop(['ID'], axis=1)\n",
    "\n",
    "#make new column of date_block_num so we can concat it with the train data\n",
    "df_test['date_block_num'] = 34\n",
    "df_test['item_cnt_month'] = 0\n",
    "\n",
    "#concat train and test data\n",
    "df = pd.concat([tr, df_test], axis = 0, sort=False)\n",
    "\n",
    "#clean memory\n",
    "del df_test\n",
    "gc.collect()"
   ]
  },
  {
   "cell_type": "code",
   "execution_count": null,
   "metadata": {},
   "outputs": [],
   "source": [
    "#fix shop name\n",
    "shops.loc[shops.shop_name == 'Сергиев Посад ТЦ \"7Я\"', 'shop_name'] = 'СергиевПосад ТЦ \"7Я\"'\n",
    "\n",
    "#get city_code of shop from shop name\n",
    "shops['city'] = shops['shop_name'].str.split(' ').map(lambda x: x[0])\n",
    "shops.loc[shops.city == '!Якутск', 'city'] = 'Якутск'\n",
    "shops['city_code'] = LabelEncoder().fit_transform(shops['city'])\n",
    "\n",
    "#what's important is only shop_id and city_code\n",
    "shops = shops[['shop_id','city_code']]"
   ]
  },
  {
   "cell_type": "code",
   "execution_count": null,
   "metadata": {},
   "outputs": [],
   "source": [
    "#get type_code/subtype_code of item from cats data\n",
    "cats['split'] = cats['item_category_name'].str.split('-')\n",
    "cats['type'] = cats['split'].map(lambda x: x[0].strip())\n",
    "cats['type_code'] = LabelEncoder().fit_transform(cats['type'])\n",
    "\n",
    "# if subtype is nan then type\n",
    "cats['subtype'] = cats['split'].map(lambda x: x[1].strip() if len(x) > 1 else x[0].strip())\n",
    "cats['subtype_code'] = LabelEncoder().fit_transform(cats['subtype'])\n",
    "cats = cats[['item_category_id','type_code', 'subtype_code']]\n",
    "\n",
    "items.drop(['item_name'], axis=1, inplace=True)"
   ]
  },
  {
   "cell_type": "code",
   "execution_count": null,
   "metadata": {},
   "outputs": [],
   "source": [
    "#merege shops, itms and cats with our main data\n",
    "df = pd.merge(df, shops, on=['shop_id'], how='left')\n",
    "df = pd.merge(df, items, on=['item_id'], how='left')\n",
    "df = pd.merge(df, cats, on=['item_category_id'], how='left')\n",
    "\n",
    "#downcast \n",
    "df['shop_id'] = df['shop_id'].astype(np.int8)\n",
    "df['item_id'] = df['item_id'].astype(np.int16)\n",
    "df['date_block_num'] = df['date_block_num'].astype(np.int8)\n",
    "\n",
    "#clean memory\n",
    "del shops, items, cats\n",
    "gc.collect()"
   ]
  },
  {
   "cell_type": "code",
   "execution_count": null,
   "metadata": {},
   "outputs": [],
   "source": [
    "#add new column that repesent the month\n",
    "df['month'] = df['date_block_num']%12\n",
    "df['month'] = df['month'].astype(np.int8)\n",
    "\n",
    "#let's keep an array of the new features we'll use\n",
    "new_features = ['month']"
   ]
  },
  {
   "cell_type": "markdown",
   "metadata": {},
   "source": [
    "#### add mean encoding features"
   ]
  },
  {
   "cell_type": "code",
   "execution_count": null,
   "metadata": {},
   "outputs": [],
   "source": [
    "#find mean of all item_cnt_month to fill nan with\n",
    "global_mean =  df['item_cnt_month'].mean()\n",
    "\n",
    "#categories we will get mean encoding for\n",
    "mean_encoded_cols = ['shop_id', 'item_id', 'item_category_id']\n",
    "#list of new features\n",
    "mean_encoded_fes = []\n",
    "\n",
    "for col in mean_encoded_cols:\n",
    "    #Expanding mean scheme\n",
    "    col_tr = df[[col] + ['item_cnt_month']]\n",
    "    \n",
    "    #new feature name\n",
    "    fe_name = col + '_cnt_month_mean_Expanding'\n",
    "    mean_encoded_fes.append(fe_name)\n",
    "    \n",
    "    #cumulative sum of previous n-1 rows\n",
    "    cumsum = col_tr.groupby(col)['item_cnt_month'].cumsum() - col_tr['item_cnt_month']\n",
    "    \n",
    "    #cumlative cnt of current elments in current group\n",
    "    sumcnt = col_tr.groupby(col).cumcount()\n",
    "    \n",
    "    #take ratio\n",
    "    col_tr[fe_name] = cumsum / sumcnt\n",
    "    \n",
    "    col_tr[fe_name].fillna(global_mean, inplace=True)\n",
    "    \n",
    "    #merge to main data\n",
    "    df = pd.concat([df, col_tr[fe_name]], axis = 1)"
   ]
  },
  {
   "cell_type": "markdown",
   "metadata": {},
   "source": [
    "#### Since this a time series problem, we can't use target features in training, but we use lags of them"
   ]
  },
  {
   "cell_type": "code",
   "execution_count": null,
   "metadata": {},
   "outputs": [],
   "source": [
    "def lag_feature(_df, lags, col, add_to_new = 1):\n",
    "    #get lag feature of col\n",
    "    tmp = _df[['date_block_num','shop_id','item_id',col]]\n",
    "    for i in lags:\n",
    "        feature_name = col+'_lag_'+str(i)\n",
    "        shifted = tmp.copy()\n",
    "        shifted.columns = ['date_block_num','shop_id','item_id', feature_name]\n",
    "        shifted['date_block_num'] += i\n",
    "        _df = pd.merge(_df, shifted, on=['date_block_num','shop_id','item_id'], how='left')\n",
    "        if add_to_new:\n",
    "            new_features.append(feature_name)\n",
    "    return _df"
   ]
  },
  {
   "cell_type": "code",
   "execution_count": null,
   "metadata": {},
   "outputs": [],
   "source": [
    "#add lag of mean encoded features\n",
    "for col in mean_encoded_fes:\n",
    "    #use lags of 1,3\n",
    "    df = lag_feature(df, [1,3], col)\n",
    "    #drop this col after creating lag from it\n",
    "    df.drop([col], axis=1, inplace=True)"
   ]
  },
  {
   "cell_type": "code",
   "execution_count": null,
   "metadata": {},
   "outputs": [],
   "source": [
    "#create lag from the target\n",
    "df = lag_feature(df, [1,2,3,6], 'item_cnt_month')"
   ]
  },
  {
   "cell_type": "markdown",
   "metadata": {},
   "source": [
    "#### let's group by some categorial features and add lag of this grouping"
   ]
  },
  {
   "cell_type": "code",
   "execution_count": null,
   "metadata": {},
   "outputs": [],
   "source": [
    "group = df.groupby(['date_block_num']).agg({'item_cnt_month': ['mean']})\n",
    "group.columns = [ 'date_avg_item_cnt' ]\n",
    "group.reset_index(inplace=True)\n",
    "\n",
    "df = pd.merge(df, group, on=['date_block_num'], how='left')\n",
    "df['date_avg_item_cnt'] = df['date_avg_item_cnt'].astype(np.float16)\n",
    "df = lag_feature(df, [1], 'date_avg_item_cnt')\n",
    "df.drop(['date_avg_item_cnt'], axis=1, inplace=True)"
   ]
  },
  {
   "cell_type": "code",
   "execution_count": null,
   "metadata": {},
   "outputs": [],
   "source": [
    "group = df.groupby(['date_block_num', 'item_id']).agg({'item_cnt_month': ['mean']})\n",
    "group.columns = [ 'date_item_avg_item_cnt' ]\n",
    "group.reset_index(inplace=True)\n",
    "\n",
    "df = pd.merge(df, group, on=['date_block_num','item_id'], how='left')\n",
    "df['date_item_avg_item_cnt'] = df['date_item_avg_item_cnt'].astype(np.float16)\n",
    "df = lag_feature(df, [1,2, 3], 'date_item_avg_item_cnt')\n",
    "df.drop(['date_item_avg_item_cnt'], axis=1, inplace=True)"
   ]
  },
  {
   "cell_type": "code",
   "execution_count": null,
   "metadata": {},
   "outputs": [],
   "source": [
    "group = df.groupby(['date_block_num', 'shop_id', 'item_category_id']).agg({'item_cnt_month': ['mean']})\n",
    "group.columns = ['date_shop_cat_avg_item_cnt']\n",
    "group.reset_index(inplace=True)\n",
    "\n",
    "df = pd.merge(df, group, on=['date_block_num', 'shop_id', 'item_category_id'], how='left')\n",
    "df['date_shop_cat_avg_item_cnt'] = df['date_shop_cat_avg_item_cnt'].astype(np.float16)\n",
    "df = lag_feature(df, [1], 'date_shop_cat_avg_item_cnt')\n",
    "df.drop(['date_shop_cat_avg_item_cnt'], axis=1, inplace=True)"
   ]
  },
  {
   "cell_type": "code",
   "execution_count": null,
   "metadata": {},
   "outputs": [],
   "source": [
    "group = df.groupby(['date_block_num', 'item_category_id']).agg({'item_cnt_month': ['mean']})\n",
    "group.columns = ['date_cat_avg_item_cnt' ]\n",
    "group.reset_index(inplace=True)\n",
    "\n",
    "df = pd.merge(df, group, on=['date_block_num','item_category_id'], how='left')\n",
    "df['date_cat_avg_item_cnt'] = df['date_cat_avg_item_cnt'].astype(np.float16)\n",
    "df = lag_feature(df, [1], 'date_cat_avg_item_cnt')\n",
    "df.drop(['date_cat_avg_item_cnt'], axis=1, inplace=True)"
   ]
  },
  {
   "cell_type": "code",
   "execution_count": null,
   "metadata": {},
   "outputs": [],
   "source": [
    "group = df.groupby(['date_block_num', 'shop_id']).agg({'item_cnt_month': ['mean']})\n",
    "group.columns = [ 'date_shop_avg_item_cnt' ]\n",
    "group.reset_index(inplace=True)\n",
    "\n",
    "df = pd.merge(df, group, on=['date_block_num','shop_id'], how='left')\n",
    "df['date_shop_avg_item_cnt'] = df['date_shop_avg_item_cnt'].astype(np.float16)\n",
    "df = lag_feature(df, [1, 2, 3, 6], 'date_shop_avg_item_cnt')\n",
    "df.drop(['date_shop_avg_item_cnt'], axis=1, inplace=True)"
   ]
  },
  {
   "cell_type": "code",
   "execution_count": null,
   "metadata": {},
   "outputs": [],
   "source": [
    "#date_item_city_avg_item_cnt\n",
    "group = df.groupby(['date_block_num', 'item_id', 'city_code']).agg({'item_cnt_month': ['mean']})\n",
    "group.columns = [ 'date_item_city_avg_item_cnt' ]\n",
    "group.reset_index(inplace=True)\n",
    "\n",
    "df = pd.merge(df, group, on=['date_block_num', 'item_id', 'city_code'], how='left')\n",
    "df['date_item_city_avg_item_cnt'] = df['date_item_city_avg_item_cnt'].astype(np.float16)\n",
    "df = lag_feature(df, [1, 3], 'date_item_city_avg_item_cnt')\n",
    "df.drop(['date_item_city_avg_item_cnt'], axis=1, inplace=True)"
   ]
  },
  {
   "cell_type": "code",
   "execution_count": null,
   "metadata": {},
   "outputs": [],
   "source": [
    "#create a feature of first item_shop_first_sale\n",
    "df['item_shop_first_sale'] = df['date_block_num'] - df.groupby(['item_id','shop_id'])['date_block_num'].transform('min')\n",
    "new_features.append('item_shop_first_sale')"
   ]
  },
  {
   "cell_type": "code",
   "execution_count": null,
   "metadata": {},
   "outputs": [],
   "source": [
    "#create a feature item_first_sale\n",
    "df['item_first_sale'] = df['date_block_num'] - df.groupby('item_id')['date_block_num'].transform('min')\n",
    "new_features.append('item_first_sale')"
   ]
  },
  {
   "cell_type": "code",
   "execution_count": null,
   "metadata": {},
   "outputs": [],
   "source": [
    "#create a feaure of number of days\n",
    "days = pd.Series([31,28,31,30,31,30,31,31,30,31,30,31])\n",
    "df['days'] = df['month'].map(days).astype(np.int8)\n",
    "new_features.append('days')"
   ]
  },
  {
   "cell_type": "markdown",
   "metadata": {},
   "source": [
    "## Training"
   ]
  },
  {
   "cell_type": "markdown",
   "metadata": {},
   "source": [
    "#### Training was done on kaggle kerenl so this cells are just copy of the kerenl without running them localy"
   ]
  },
  {
   "cell_type": "code",
   "execution_count": null,
   "metadata": {},
   "outputs": [],
   "source": [
    "from sklearn.ensemble import RandomForestRegressor\n",
    "import lightgbm as lgb\n",
    "from sklearn.linear_model import SGDRegressor\n",
    "from sklearn.linear_model import Ridge\n",
    "from sklearn.metrics import r2_score\n",
    "\n",
    "#lgbm\n",
    "#best parameters found after some testing\n",
    "lgb_params = {\n",
    "               'feature_fraction': 0.3,\n",
    "               'metric': 'rmse',\n",
    "               'nthread':3, \n",
    "               'min_data_in_leaf': 2**7, \n",
    "               'bagging_fraction': 0.6, \n",
    "               'learning_rate': 0.03, \n",
    "               'objective': 'mse', \n",
    "               'bagging_seed': 2**7, \n",
    "               'num_leaves': 2**5,\n",
    "               'bagging_freq':1,\n",
    "               'verbose':0,\n",
    "               'lambda_l2':0.5\n",
    "              }\n",
    "\n",
    "validation = 1"
   ]
  },
  {
   "cell_type": "markdown",
   "metadata": {},
   "source": [
    "#### some preparation for training"
   ]
  },
  {
   "cell_type": "code",
   "execution_count": null,
   "metadata": {},
   "outputs": [],
   "source": [
    "#If there's na fill it with zero\n",
    "df = df.fillna(0)\n",
    "#features we will use in training\n",
    "fes = new_features + ['date_block_num','item_id','shop_id', 'item_category_id',\n",
    "                      'subtype_code']\n",
    "#our target feature\n",
    "y_f = ['item_cnt_month']\n",
    "#drop first 11 months, because we used lag of 12\n",
    "df = df[df.date_block_num > 11]"
   ]
  },
  {
   "cell_type": "markdown",
   "metadata": {},
   "source": [
    "#### split for validation or test"
   ]
  },
  {
   "cell_type": "code",
   "execution_count": null,
   "metadata": {},
   "outputs": [],
   "source": [
    "#if we will validate, then don't use data from test-set, where date_block_num == 35\n",
    "if validation:\n",
    "    f_tr = df[df.date_block_num < 34]\n",
    "    y_tr = f_tr[y_f]\n",
    "    f_tr = f_tr[fes]\n",
    "    \n",
    "    lv2 = [27, 28, 29, 30, 31, 32, 33]\n",
    "else:\n",
    "    f_tr = df[df.date_block_num < 35]\n",
    "    y_tr = f_tr[y_f]\n",
    "    f_tr = f_tr[fes]\n",
    "    \n",
    "    lv2 = [27, 28, 29, 30, 31, 32, 33, 34]"
   ]
  },
  {
   "cell_type": "code",
   "execution_count": null,
   "metadata": {},
   "outputs": [],
   "source": [
    "#get our truth prediction \n",
    "y_tr2 = y_tr[f_tr.date_block_num.isin(lv2)]\n",
    "\n",
    "#Our training data for level 2 model, will be prediction from level 1 models\n",
    "f_tr2 = np.zeros([y_tr2.shape[0], 3])\n",
    "\n",
    "#counter to fill f_tr2\n",
    "ss = 0\n",
    "\n",
    "# Now fill `X_train_level2` with metafeatures\n",
    "for cur_block_num in lv2:\n",
    "    \n",
    "    print(cur_block_num)\n",
    "    \n",
    "    x_t = f_tr[f_tr.date_block_num < cur_block_num]\n",
    "    y_t = y_tr[f_tr.date_block_num < cur_block_num]\n",
    "    \n",
    "    x_te = f_tr[f_tr.date_block_num == cur_block_num]\n",
    "    y_te = y_tr[f_tr.date_block_num == cur_block_num]\n",
    "    \n",
    "    #train models\n",
    "    \n",
    "    #rf\n",
    "    #print('training rf')\n",
    "    m = RandomForestRegressor(n_estimators=10, min_samples_leaf=7, max_features='log2', n_jobs=-1)\n",
    "    m.fit(x_t.values, y_t.values.ravel())\n",
    "    \n",
    "    \n",
    "    #lgb\n",
    "    #print('training lgb')\n",
    "    lg = lgb.train(lgb_params, lgb.Dataset(x_t.values, label=y_t.values.ravel()), 200)\n",
    "    \n",
    "    \n",
    "    #sgd\n",
    "    #print('training sgd')\n",
    "    sg = SGDRegressor(alpha=0.1)\n",
    "    sg.fit(x_t.values, y_t.values.ravel())\n",
    "    \n",
    "    se = ss + x_te.shape[0]\n",
    "    f_tr2[ss:se, 0] = m.predict(x_te.values)\n",
    "    f_tr2[ss:se, 1] = lg.predict(x_te.values)\n",
    "    f_tr2[ss:se, 2] = sg.predict(x_te.values)\n",
    "    \n",
    "    ss = se"
   ]
  },
  {
   "cell_type": "code",
   "execution_count": null,
   "metadata": {},
   "outputs": [],
   "source": [
    "#Last block will be our testing block, whether we're validating or testing\n",
    "test_nrow = x_te.shape[0]\n",
    "\n",
    "#split data for testing\n",
    "f_t2 = f_tr2[ : -test_nrow, :]\n",
    "\n",
    "f_te2 = f_tr2[ -test_nrow: , :]\n",
    "\n",
    "y_t2 = y_tr2[ : -test_nrow]\n",
    "\n",
    "y_te2 = y_tr2[ -test_nrow : ]"
   ]
  },
  {
   "cell_type": "code",
   "execution_count": null,
   "metadata": {},
   "outputs": [],
   "source": [
    "#Train second level model on the predictions of first models\n",
    "#tried some different models and different regulazation and this was best one\n",
    "reg = Ridge(alpha=3.0)\n",
    "reg.fit(f_t2, y_t2.values.ravel())"
   ]
  },
  {
   "cell_type": "markdown",
   "metadata": {},
   "source": [
    "## Prediction"
   ]
  },
  {
   "cell_type": "code",
   "execution_count": null,
   "metadata": {},
   "outputs": [],
   "source": [
    "if validation:\n",
    "    #for validation print r-square score\n",
    "    print('R-squared for training data is: %f' % r2_score(y_t2.values.ravel(), reg.predict(f_t2)))\n",
    "    print('R-squared for testing data is: %f' % r2_score(y_te2.values.ravel(), reg.predict(f_te2)))\n",
    "else:\n",
    "    #predict and build file for submission\n",
    "    pred = reg.predict(f_te2)\n",
    "\n",
    "    pred = pred.clip(0,20)\n",
    "\n",
    "    df = pd.DataFrame(pred, columns = ['item_cnt_month'])\n",
    "    df['ID'] = df.index\n",
    "    df = df.set_index('ID')\n",
    "\n",
    "    df.to_csv('test_preds.csv')"
   ]
  }
 ],
 "metadata": {
  "kernelspec": {
   "display_name": "Python 3",
   "language": "python",
   "name": "python3"
  },
  "language_info": {
   "codemirror_mode": {
    "name": "ipython",
    "version": 3
   },
   "file_extension": ".py",
   "mimetype": "text/x-python",
   "name": "python",
   "nbconvert_exporter": "python",
   "pygments_lexer": "ipython3",
   "version": "3.7.0"
  }
 },
 "nbformat": 4,
 "nbformat_minor": 1
}
